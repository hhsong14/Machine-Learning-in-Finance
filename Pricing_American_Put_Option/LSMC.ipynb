{
  "nbformat": 4,
  "nbformat_minor": 0,
  "metadata": {
    "colab": {
      "provenance": []
    },
    "kernelspec": {
      "name": "python3",
      "display_name": "Python 3"
    },
    "language_info": {
      "name": "python"
    }
  },
  "cells": [
    {
      "cell_type": "code",
      "execution_count": 1,
      "metadata": {
        "colab": {
          "base_uri": "https://localhost:8080/"
        },
        "id": "xNt7LCx0pmAa",
        "outputId": "ed0d8cc3-9e11-4abb-a556-cecf69433670"
      },
      "outputs": [
        {
          "output_type": "stream",
          "name": "stdout",
          "text": [
            "4.4634476148734405\n"
          ]
        }
      ],
      "source": [
        "import numpy as np\n",
        "\n",
        "Spot = 36   # stock price\n",
        "σ = 0.2     # stock volatility\n",
        "K = 40      # strike price\n",
        "r = 0.06    # risk free rate\n",
        "n = 100000  # Number of simualted paths\n",
        "m = 50      # number of exercise dates\n",
        "T = 1       # maturity\n",
        "order = 12   # Polynmial order\n",
        "Δt = T / m  # interval between two exercise dates\n",
        "\n",
        "\n",
        "# Construct polynomial features of order up to k using the\n",
        "# recursive formulation\n",
        "def chebyshev_basis(x, k):\n",
        "    B = [np.ones(len(x)), x]\n",
        "    for n in range(2, k):\n",
        "        Bn = 2 * x * B[n - 1] - B[n - 2]\n",
        "        B.append(Bn)\n",
        "\n",
        "    return np.column_stack(B)\n",
        "\n",
        "\n",
        "# scales x to be in the interval(-1, 1)\n",
        "def scale(x):\n",
        "    xmin = x.min()\n",
        "    xmax = x.max()\n",
        "    a = 2 / (xmax - xmin)\n",
        "    b = 1 - a * xmax\n",
        "    return a * x + b\n",
        "\n",
        "\n",
        "# simulates one step of the stock price evolution\n",
        "def step(S):\n",
        "    dB = np.sqrt(Δt) * np.random.normal(size=S.size)\n",
        "    S_tp1 = S + r * S * Δt + σ * S * dB\n",
        "    return S_tp1\n",
        "\n",
        "\n",
        "def payoff_put(S):\n",
        "    return np.maximum(K - S, 0.)\n",
        "\n",
        "\n",
        "# LSMC algorithm\n",
        "def compute_price():\n",
        "    np.random.seed(0)\n",
        "    S0 = Spot * np.ones(n)\n",
        "    S = [S0]\n",
        "\n",
        "    for t in range(m):\n",
        "        S_tp1 = step(S[t])\n",
        "        S.append(S_tp1)\n",
        "\n",
        "    discount = np.exp(-r * Δt)\n",
        "\n",
        "    # Very last date\n",
        "    value_if_exercise = payoff_put(S[-1])\n",
        "    discounted_future_cashflows = value_if_exercise * discount\n",
        "\n",
        "    # Proceed recursively\n",
        "    for i in range(m - 1):\n",
        "        X = chebyshev_basis(scale(S[-2 - i]), order)\n",
        "        Y = discounted_future_cashflows\n",
        "\n",
        "        Θ = np.linalg.solve(X.T @ X, X.T @ Y)\n",
        "        value_if_wait = X @ Θ\n",
        "        value_if_exercise = payoff_put(S[-2 - i])\n",
        "        exercise = value_if_exercise >= value_if_wait\n",
        "        discounted_future_cashflows = discount * np.where(\n",
        "            exercise,\n",
        "            value_if_exercise,\n",
        "            discounted_future_cashflows)\n",
        "\n",
        "    return discounted_future_cashflows.mean()\n",
        "\n",
        "\n",
        "print(compute_price())\n",
        "# test = compute_price(order, Spot, σ, K, r)"
      ]
    }
  ]
}