{
  "nbformat": 4,
  "nbformat_minor": 0,
  "metadata": {
    "colab": {
      "provenance": []
    },
    "kernelspec": {
      "name": "python3",
      "display_name": "Python 3"
    },
    "language_info": {
      "name": "python"
    }
  },
  "cells": [
    {
      "cell_type": "code",
      "execution_count": 7,
      "metadata": {
        "id": "5xJvpTbVqF9S"
      },
      "outputs": [],
      "source": [
        "import jax\n",
        "import jax.numpy as jnp\n",
        "import jax.random as random\n",
        "\n",
        "Spot = 36   # stock price\n",
        "σ = 0.2     # stock volatility\n",
        "K = 40      # strike price\n",
        "r = 0.06    # risk free rate\n",
        "n = 100000  # Number of simualted paths\n",
        "m = 50      # number of exercise dates\n",
        "T = 1       # maturity\n",
        "order = 12   # Polynmial order\n",
        "Δt = T / m  # interval between two exercise dates\n",
        "\n",
        "def scale(x):\n",
        "    xmin = x.min()\n",
        "    xmax = x.max()\n",
        "    a = 2 / (xmax - xmin)\n",
        "    b = 1 - a * xmax\n",
        "    return a * x + b\n",
        "\n",
        "def payoff_put(S):    \n",
        "  return jnp.maximum(K - S, 0.)\n",
        "\n",
        "def chebyshev_basis(X,k):\n",
        "  def func(carry, x):\n",
        "    temp, temp_1 = carry\n",
        "    new = 2 * X * temp - temp_1\n",
        "    return (new, temp), new\n",
        "  return jax.lax.scan(func, (X, jnp.ones(len(X))) , xs=None, length=k)\n",
        "\n",
        "def step(S, xs):\n",
        "  dZ = xs * jnp.sqrt(Δt)\n",
        "  dS = r * S  * Δt + σ  * S  * dZ\n",
        "  S = S + dS\n",
        "  return S, S\n",
        "\n",
        "def compute_price():\n",
        "  key = random.PRNGKey(10)\n",
        "  S0 = Spot*jnp.ones(n)\n",
        "  xs = jnp.array(random.normal(key,shape=(m,n)))\n",
        "  S = jax.lax.scan(step, S0, xs)[1]\n",
        "  discount = jnp.exp(-r * Δt)\n",
        "\n",
        "  value_if_exercise = payoff_put(S[-1])\n",
        "  discounted_future_cashflows = value_if_exercise * discount\n",
        "\n",
        "  def func(init, x):\n",
        "    X = chebyshev_basis(scale(S[-2 - x]), order)[1].T\n",
        "    Y = init\n",
        "    Θ = jnp.linalg.solve(X.T @ X, X.T @ Y)\n",
        "    value_if_wait = X @ Θ\n",
        "    value_if_exercise = payoff_put(S[-2 - x])\n",
        "    exercise = value_if_exercise >= value_if_wait\n",
        "    Y = discount * jnp.where(exercise, value_if_exercise, Y)\n",
        "    return Y, Y\n",
        "\n",
        "  return jax.lax.scan(func, discounted_future_cashflows, xs = jnp.array(range(m-1)))[0].mean()"
      ]
    },
    {
      "cell_type": "code",
      "source": [
        "print(compute_price())"
      ],
      "metadata": {
        "colab": {
          "base_uri": "https://localhost:8080/"
        },
        "id": "-W80Z4siqjri",
        "outputId": "b9041e76-be5d-403d-c888-616c6fa7c7e4"
      },
      "execution_count": 8,
      "outputs": [
        {
          "output_type": "stream",
          "name": "stdout",
          "text": [
            "4.462592\n"
          ]
        }
      ]
    }
  ]
}